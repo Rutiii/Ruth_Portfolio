{
 "cells": [
  {
   "cell_type": "code",
   "execution_count": 1,
   "id": "42116644-1bd4-491a-a890-6ed2e70cf042",
   "metadata": {},
   "outputs": [],
   "source": [
    "import os, shutil"
   ]
  },
  {
   "cell_type": "code",
   "execution_count": 14,
   "id": "20c5b10d-be90-4c9a-a6a0-43220ed8914b",
   "metadata": {},
   "outputs": [],
   "source": [
    "path= r'C:\\Users\\Ruth\\Desktop\\Class\\Data Analyst\\Alex\\Python\\Automatic Sorter\\\\'"
   ]
  },
  {
   "cell_type": "code",
   "execution_count": 15,
   "id": "67db11ed-f441-4288-bc6f-4bd5cc8b4330",
   "metadata": {},
   "outputs": [
    {
     "data": {
      "text/plain": [
       "['CSVFile.csv',\n",
       " 'FakeFile.csv',\n",
       " 'FakeFile.txt',\n",
       " 'Max.png',\n",
       " 'NewFile.tsv',\n",
       " 'NewFile.txt',\n",
       " 'Rosie.png']"
      ]
     },
     "execution_count": 15,
     "metadata": {},
     "output_type": "execute_result"
    }
   ],
   "source": [
    "os.listdir(path)"
   ]
  },
  {
   "cell_type": "code",
   "execution_count": 28,
   "id": "0e1a58b9-70be-4a4b-876a-c9da46b05ebd",
   "metadata": {},
   "outputs": [],
   "source": [
    "Folder_Names=['CSV Files', 'Text Files', 'Image Files']\n",
    "#C:\\Users\\Ruth\\Desktop\\Class\\Data Analyst\\Alex\\Python\\Automatic Sorter\\image files\n",
    "for folder in Folder_Names:\n",
    "    if not os.path.exists(path+folder):\n",
    "        os.makedirs(path+folder)"
   ]
  },
  {
   "cell_type": "code",
   "execution_count": 29,
   "id": "d2ece165-7d45-42c4-8c8f-b709c88226d7",
   "metadata": {},
   "outputs": [
    {
     "data": {
      "text/plain": [
       "['CS Files',\n",
       " 'CSV Files',\n",
       " 'CSVFile.csv',\n",
       " 'FakeFile.csv',\n",
       " 'FakeFile.txt',\n",
       " 'Image Files',\n",
       " 'Max.png',\n",
       " 'NewFile.tsv',\n",
       " 'NewFile.txt',\n",
       " 'Rosie.png',\n",
       " 'Text Files']"
      ]
     },
     "execution_count": 29,
     "metadata": {},
     "output_type": "execute_result"
    }
   ],
   "source": [
    "os.listdir(path)"
   ]
  },
  {
   "cell_type": "code",
   "execution_count": 30,
   "id": "7d913379-8ec1-4a5b-ad96-9bd9f3ede24b",
   "metadata": {},
   "outputs": [],
   "source": [
    "file_names=os.listdir(path)\n",
    "path= r'C:\\Users\\Ruth\\Desktop\\Class\\Data Analyst\\Alex\\Python\\Automatic Sorter\\\\'"
   ]
  },
  {
   "cell_type": "code",
   "execution_count": 31,
   "id": "6f92a51e-3b51-446f-b92b-377031da8c5e",
   "metadata": {},
   "outputs": [],
   "source": [
    "for file in file_names:\n",
    "    if'.csv' in file and not os.path.exists(path+'CSV Files\\\\'+file):\n",
    "        shutil.move(path+file, path+'CSV Files\\\\'+file)\n",
    "    elif '.png' in file and not os.path.exists(path+'Image Files\\\\'+file):\n",
    "        shutil.move(path+file, path+'Image Files\\\\'+file)\n",
    "    elif '.txt' in file and not os.path.exists(path+'Text Files\\\\'+file):\n",
    "        shutil.move(path+file, path+'Text Files\\\\' +file)"
   ]
  },
  {
   "cell_type": "code",
   "execution_count": 32,
   "id": "b64e926d-8b3e-4f62-b593-da6d61b64724",
   "metadata": {},
   "outputs": [],
   "source": [
    "path= r'C:\\Users\\Ruth\\Desktop\\Class\\Data Analyst\\Alex\\Python\\Automatic Sorter\\\\'\n",
    "Folder_Names=['CSV Files', 'Text Files', 'Image Files']\n",
    "for folder in Folder_Names:\n",
    "    if not os.path.exists(path+folder):\n",
    "        os.makedirs(path+folder)\n",
    "file_names=os.listdir(path)\n",
    "for file in file_names:\n",
    "    if'.csv' in file and not os.path.exists(path+'CSV Files\\\\'+file):\n",
    "        shutil.move(path+file, path+'CSV Files\\\\'+file)\n",
    "    elif '.png' in file and not os.path.exists(path+'Image Files\\\\'+file):\n",
    "        shutil.move(path+file, path+'Image Files\\\\'+file)\n",
    "    elif '.txt' in file and not os.path.exists(path+'Text Files\\\\'+file):\n",
    "        shutil.move(path+file, path+'Text Files\\\\' +file) "
   ]
  },
  {
   "cell_type": "code",
   "execution_count": null,
   "id": "8477ff1a-e1ea-4c39-a5de-a2c8fe5bf3c3",
   "metadata": {},
   "outputs": [],
   "source": []
  }
 ],
 "metadata": {
  "kernelspec": {
   "display_name": "Python 3 (ipykernel)",
   "language": "python",
   "name": "python3"
  },
  "language_info": {
   "codemirror_mode": {
    "name": "ipython",
    "version": 3
   },
   "file_extension": ".py",
   "mimetype": "text/x-python",
   "name": "python",
   "nbconvert_exporter": "python",
   "pygments_lexer": "ipython3",
   "version": "3.12.4"
  }
 },
 "nbformat": 4,
 "nbformat_minor": 5
}
