{
 "cells": [
  {
   "cell_type": "code",
   "execution_count": 59,
   "id": "6492406f-059f-44a4-89a7-6da479be1288",
   "metadata": {},
   "outputs": [
    {
     "name": "stdin",
     "output_type": "stream",
     "text": [
      "Enter starting unit of measurment(inches, feet, yard):  feet\n",
      "Enter unit of measurment to convert to (inches, feet, yard):  inch\n",
      "enter strating measurment in feet:  34\n"
     ]
    },
    {
     "name": "stdout",
     "output_type": "stream",
     "text": [
      "your converted amount is: 408 inch\n"
     ]
    }
   ],
   "source": [
    "convert_from= input(\"Enter starting unit of measurment(inches, feet, yard): \").strip().lower()\n",
    "convert_to= input(\"Enter unit of measurment to convert to (inches, feet, yard): \").strip().lower()\n",
    "if convert_from in [\"inches\", \"inch\"]:\n",
    "    number_of_inches= int(input(\"enter strating measurment in inches: \"))\n",
    "    if convert_to in [\"feet\", \"foot\", \"ft\"]:\n",
    "        print(\"your converted amount is: \"+ str(round(number_of_inches/12,2))+ \" feet\")\n",
    "    elif convert_to in [\"yards\", \"yard\", \"yds\", \"yd\"]:\n",
    "        print(\"your converted amount is: \" + str(round(number_of_inches/36,2))+ \" yards\")\n",
    "    else:\n",
    "        print(\"your measurment type entry is incorrect, please enter either Inches, Feet or yards\")\n",
    "elif convert_from in [\"feet\", \"foot\", \"ft\"]:\n",
    "    number_of_feet= int(input(\"enter strating measurment in feet: \"))\n",
    "    if convert_to in [\"inches\", \"inch\"]:\n",
    "        print(\"your converted amount is: \"+ str(round(number_of_feet*12,2))+\" inch\")\n",
    "    elif convert_to  in [\"yards\", \"yard\", \"yds\", \"yd\"]:\n",
    "        print(\"your converted amount is: \", str(round(number_of_feet/3,2)) + \" yards\")\n",
    "    else:\n",
    "        print(\"your measurment type entry is incorrect, please enter either Inches, Feet or yards\")\n",
    "elif convert_from in [\"yards\", \"yard\", \"yds\", \"yd\"]:\n",
    "    number_of_yards= int(input(\"enter strating measurment in yards: \"))\n",
    "    if convert_to in [\"inches\", \"inch\"]:\n",
    "        print(\"your converted amount is: \"+ str(round(number_of_yards*36,2)) +\" inches\")\n",
    "    elif convert_to in [\"feet\", \"foot\", \"ft\"]:\n",
    "        print(\"your converted amount is: \"+ str(round(number_of_yards*3,2)) +\" feet\")\n",
    "    else:\n",
    "        print(\"The measurment type entry is incorrect, please enter either Inches, Feet or yards\")\n",
    "\n",
    "else:\n",
    "    print(\"The measurment type entry is incorrect, please enter either Inches, Feet or yards\")\n",
    "    \n",
    "    "
   ]
  },
  {
   "cell_type": "code",
   "execution_count": null,
   "id": "242878da-bcf1-4081-908a-96ce0ccd419d",
   "metadata": {},
   "outputs": [],
   "source": []
  },
  {
   "cell_type": "code",
   "execution_count": null,
   "id": "9ca4678c-bbfd-4b9f-aa04-1ccae17a34f6",
   "metadata": {},
   "outputs": [],
   "source": []
  }
 ],
 "metadata": {
  "kernelspec": {
   "display_name": "Python 3 (ipykernel)",
   "language": "python",
   "name": "python3"
  },
  "language_info": {
   "codemirror_mode": {
    "name": "ipython",
    "version": 3
   },
   "file_extension": ".py",
   "mimetype": "text/x-python",
   "name": "python",
   "nbconvert_exporter": "python",
   "pygments_lexer": "ipython3",
   "version": "3.12.4"
  }
 },
 "nbformat": 4,
 "nbformat_minor": 5
}
