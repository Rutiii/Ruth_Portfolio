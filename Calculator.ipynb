{
 "cells": [
  {
   "cell_type": "code",
   "execution_count": 4,
   "id": "712b5c52-0375-4cd3-b67b-f3bf11f2bb00",
   "metadata": {},
   "outputs": [],
   "source": [
    "def add(x,y):\n",
    "    return x+y\n",
    "def add(x,y):\n",
    "    return x-y\n",
    "def add(x,y):\n",
    "    return x*y\n",
    "def add(x,y):\n",
    "    return x/y\n",
    "\n"
   ]
  },
  {
   "cell_type": "code",
   "execution_count": null,
   "id": "b0aad188-fadf-4368-a734-72dd848320f8",
   "metadata": {},
   "outputs": [
    {
     "name": "stdout",
     "output_type": "stream",
     "text": [
      "Enter 'A' for Addition\n",
      "Enter 'S' for Subtraction\n",
      "Enter 'A' for Multiplication\n",
      "Enter 'A' for Division\n"
     ]
    },
    {
     "name": "stdin",
     "output_type": "stream",
     "text": [
      "Enter choice (A,S,M,D):  a\n",
      "Enter first number:  12\n",
      "Enter second number:  12\n"
     ]
    },
    {
     "name": "stdout",
     "output_type": "stream",
     "text": [
      "Result: 12.0 + 12.0 = 24.0\n"
     ]
    },
    {
     "name": "stdin",
     "output_type": "stream",
     "text": [
      "Enter choice (A,S,M,D):  m\n",
      "Enter first number:  12\n",
      "Enter second number:  12\n"
     ]
    },
    {
     "name": "stdout",
     "output_type": "stream",
     "text": [
      "Result: 12.0 * 12.0 = 144.0\n"
     ]
    }
   ],
   "source": [
    "print(\"Enter 'A' for Addition\")\n",
    "print(\"Enter 'S' for Subtraction\")\n",
    "print(\"Enter 'A' for Multiplication\")\n",
    "print(\"Enter 'A' for Division\")\n",
    "\n",
    "while True:\n",
    "    choice=input('Enter choice (A,S,M,D): ')\n",
    "    if choice.upper() in('A','ADD', 'ADDITION','S','SUBTRACT','SUBTRACTION','M','MULTIPLY','MULTIPLICATION','D','DEVIDE','DEVISION'):\n",
    "        num1=float(input('Enter first number: '))\n",
    "        num2=float(input('Enter second number: '))\n",
    "    \n",
    "        if choice.upper() in ('A','ADD','ADDITION'):\n",
    "            print(\"Result:\",num1, '+', num2, '=', add(num1,num2))\n",
    "        \n",
    "        elif choice.upper() in ('S','SUBTRACT','SUBTRACTION'):\n",
    "            print(\"Result:\",num1, '-', num2, '=', substract(num1,num2))\n",
    "    \n",
    "        elif choice.upper() in ('M','MULTIPLY','MULTIPLICATION'):\n",
    "            print(\"Result:\",num1, '*', num2, '=', multiply(num1,num2))\n",
    "    \n",
    "        elif choice.upper() in ('D','DEVIDE','DEVISION'):\n",
    "            print(\"Result:\",num1, '/', num2, '=', devide(num1,num2))\n",
    "    \n",
    "    else:\n",
    "        print(\"Input the correct choice\")\n",
    "        \n",
    "        next_calculation=input(\"Want to do another calculation? (yes/no): \")\n",
    "        if next_calculation.lower() in ('no','n','nope'):\n",
    "            break\n",
    "\n",
    "\n"
   ]
  },
  {
   "cell_type": "code",
   "execution_count": null,
   "id": "810ff5e4-af75-4dc9-8c0d-ed816a57c670",
   "metadata": {},
   "outputs": [],
   "source": []
  },
  {
   "cell_type": "code",
   "execution_count": null,
   "id": "e63c24f4-0cc1-4718-a86c-861b95989b23",
   "metadata": {},
   "outputs": [],
   "source": []
  }
 ],
 "metadata": {
  "kernelspec": {
   "display_name": "Python 3 (ipykernel)",
   "language": "python",
   "name": "python3"
  },
  "language_info": {
   "codemirror_mode": {
    "name": "ipython",
    "version": 3
   },
   "file_extension": ".py",
   "mimetype": "text/x-python",
   "name": "python",
   "nbconvert_exporter": "python",
   "pygments_lexer": "ipython3",
   "version": "3.12.4"
  }
 },
 "nbformat": 4,
 "nbformat_minor": 5
}
